{
 "cells": [
  {
   "cell_type": "markdown",
   "metadata": {},
   "source": [
    "# DATA PROJECT"
   ]
  },
  {
   "attachments": {},
   "cell_type": "markdown",
   "metadata": {},
   "source": [
    "**Table of contents**<a id='toc0_'></a>    \n",
    "- 1. [Read and clean data](#toc1_)  \n",
    "    - 1.1 [Data set 1](#toc1_1_)\n",
    "    - 1.2 [Data set 2](#toc1_2_)\n",
    "- 2. [Exploring the data](#toc2_) \n",
    "    - 2.1 [Summary statistics of the two data sets](#toc2_1_)\n",
    "    - 2.2 [Visualization](#toc2_2_)\n",
    "    - 2.3 [Merging the data sets](#toc2_3_)\n",
    "- 3. [Conclusion](#toc3_)"
   ]
  },
  {
   "cell_type": "markdown",
   "metadata": {},
   "source": [
    "#### Imports and set magics:"
   ]
  },
  {
   "cell_type": "code",
   "execution_count": 1,
   "metadata": {},
   "outputs": [],
   "source": [
    "import pandas as pd\n",
    "import numpy as np\n",
    "import matplotlib.pyplot as plt\n",
    "import plotly.express as px\n",
    "import seaborn as sns\n",
    "\n",
    "# autoreload modules when code is run\n",
    "%load_ext autoreload\n",
    "%autoreload 2\n",
    "\n",
    "# user written modules\n",
    "import dataproject\n"
   ]
  },
  {
   "cell_type": "markdown",
   "metadata": {},
   "source": [
    "## 1. <a id='toc1_'></a>[Read and clean data](#toc0_)"
   ]
  },
  {
   "cell_type": "markdown",
   "metadata": {},
   "source": [
    "## 1.1 <a id='toc1_1_'></a>[Data set 1](#toc0_) "
   ]
  },
  {
   "cell_type": "code",
   "execution_count": null,
   "metadata": {},
   "outputs": [],
   "source": [
    "# Load and print data set 1\n",
    "pricedata = pd.read_excel('data.xlsx', sheet_name='Gns. Pris pr ejendom', skiprows=2)\n",
    "print(pricedata)"
   ]
  },
  {
   "cell_type": "code",
   "execution_count": null,
   "metadata": {},
   "outputs": [],
   "source": [
    "# We clean up data set 1 a bit\n",
    "pricedata = pd.read_excel('data.xlsx', sheet_name='Gns. Pris pr ejendom', skiprows=2)\n",
    "pricedata.head(17)"
   ]
  },
  {
   "cell_type": "code",
   "execution_count": null,
   "metadata": {},
   "outputs": [],
   "source": [
    "# These columns have to go: 'Unnamed: 0' 'Unnamed: 1' 'Unnamed: 2'\n",
    "pricedata_cleaned = pricedata.drop(columns=['Unnamed: 0', 'Unnamed: 1', 'Unnamed: 2'])\n",
    "pricedata_cleaned.head(17)"
   ]
  },
  {
   "cell_type": "code",
   "execution_count": null,
   "metadata": {},
   "outputs": [],
   "source": [
    "# We remove the rows which are not actual data\n",
    "pricedata_cleaned = pricedata_cleaned.dropna(subset=['Unnamed: 3']).reset_index(drop=True)\n",
    "\n",
    "# We rename the columns to have meaningful names\n",
    "pricedata_cleaned = pricedata_cleaned.rename(columns={'Unnamed: 3': 'Area'})\n",
    "\n",
    "pricedata_cleaned.head(17)"
   ]
  },
  {
   "cell_type": "markdown",
   "metadata": {},
   "source": [
    "#### We want our data to be in years instead of quarters. Therefore, we will make some further changes / cleaning of our data:"
   ]
  },
  {
   "cell_type": "code",
   "execution_count": null,
   "metadata": {},
   "outputs": [],
   "source": [
    "# Now we will aggregate the quarters into years.\n",
    "# First we need to melt the dataframe to go from a wide to long format.\n",
    "pricedata_melted = pd.melt(pricedata_cleaned, id_vars=['Area'], var_name='YearQuarter', value_name='Price')\n",
    "\n",
    "pricedata_melted.head(10) # We display the first 10 rows to verify the results"
   ]
  },
  {
   "cell_type": "code",
   "execution_count": null,
   "metadata": {},
   "outputs": [],
   "source": [
    "# Now we extract year from 'YearQuarter' and convert 'Price' to numeric\n",
    "pricedata_melted['Year'] = pricedata_melted['YearQuarter'].str.extract('(\\d+)')\n",
    "pricedata_melted['Price'] = pd.to_numeric(pricedata_melted['Price'])\n",
    "\n",
    "pricedata_melted.head(50) # We display the first 50 rows to verify the results"
   ]
  },
  {
   "cell_type": "code",
   "execution_count": null,
   "metadata": {},
   "outputs": [],
   "source": [
    "# Lastly, we drop the 'YearQuarter' column as it's no longer needed\n",
    "pricedata_melted.drop('YearQuarter', axis=1, inplace=True)\n",
    "\n",
    "# We group by 'Area' and 'Year' and sum the 'Price' for each group\n",
    "yearly_pricedata = pricedata_melted.groupby(['Area', 'Year'], as_index=False).sum()\n",
    "\n",
    "yearly_pricedata.head(10)  # We display the first 10 rows to verify the results"
   ]
  },
  {
   "cell_type": "markdown",
   "metadata": {},
   "source": [
    "#### We have successfully cleaned our initial dataset. We removed irrelevant information, converted our data from quarterly to yearly, and transformed it from wide to long."
   ]
  },
  {
   "cell_type": "markdown",
   "metadata": {},
   "source": [
    "## 1.2 <a id='toc1_2_'></a>[Data set 2](#toc0_)"
   ]
  },
  {
   "cell_type": "code",
   "execution_count": null,
   "metadata": {},
   "outputs": [],
   "source": [
    "# We do the same for data set 2\n",
    "# We load the data\n",
    "salesdata = pd.read_excel('data.xlsx', sheet_name='Antal salg', skiprows=2)\n",
    "\n",
    "# These columns have to go: 'Unnamed: 0' 'Unnamed: 1' 'Unnamed: 2'\n",
    "salesdata_cleaned = salesdata.drop(columns=['Unnamed: 0', 'Unnamed: 1', 'Unnamed: 2'])\n",
    "\n",
    "# We remove the rows which are not actual data\n",
    "salesdata_cleaned = salesdata_cleaned.dropna(subset=['Unnamed: 3']).reset_index(drop=True)\n",
    "\n",
    "# We rename the columns to have meaningful names\n",
    "salesdata_cleaned = salesdata_cleaned.rename(columns={'Unnamed: 3': 'Area'})\n",
    "\n",
    "# Now we will aggregate the quarters into years.\n",
    "# First we need to melt the dataframe to go from a wide to long format.\n",
    "salesdata_melted = pd.melt(salesdata_cleaned, id_vars=['Area'], var_name='YearQuarter', value_name='Sales')\n",
    "\n",
    "# Now we extract year from 'YearQuarter' and convert 'Price' to numeric\n",
    "salesdata_melted['Year'] = salesdata_melted['YearQuarter'].str.extract('(\\d+)')\n",
    "salesdata_melted['Sales'] = pd.to_numeric(salesdata_melted['Sales'])\n",
    "\n",
    "# Lastly, we drop the 'YearQuarter' column as it's no longer needed\n",
    "salesdata_melted.drop('YearQuarter', axis=1, inplace=True)\n",
    "\n",
    "# We group by 'Area' and 'Year' and sum the 'Sales' for each group\n",
    "yearly_salesdata = salesdata_melted.groupby(['Area', 'Year'], as_index=False).sum()\n",
    "\n",
    "yearly_salesdata.head(10)  # We display the first 10 rows to verify the results"
   ]
  },
  {
   "cell_type": "markdown",
   "metadata": {},
   "source": [
    "#### To make our analysis more managable, we want to focus on the capital region (Region Hovedstaden) and the North Jutland region (Region Nordjylland):"
   ]
  },
  {
   "cell_type": "code",
   "execution_count": null,
   "metadata": {},
   "outputs": [],
   "source": [
    "# We define the two areas\n",
    "areas_of_interest = ['Region Hovedstaden', 'Region Nordjylland']\n",
    "\n",
    "# We filter the DataFrame for the areas of interest\n",
    "focused_pricedata = yearly_pricedata[yearly_pricedata['Area'].isin(areas_of_interest)]\n",
    "\n",
    "# We display the some rows to verify the results\n",
    "print(focused_pricedata.head(50))\n",
    "\n",
    "# We do the same for the second data set\n",
    "focused_salesdata = yearly_salesdata[yearly_salesdata['Area'].isin(areas_of_interest)]"
   ]
  },
  {
   "cell_type": "markdown",
   "metadata": {},
   "source": [
    "## 2 <a id='toc2_'></a>[Exploring the data sets](#toc0_)"
   ]
  },
  {
   "cell_type": "markdown",
   "metadata": {},
   "source": [
    "## 2.1 <a id='toc2_1_'></a>[Summary statistics of the two data sets](#toc0_)"
   ]
  },
  {
   "cell_type": "markdown",
   "metadata": {},
   "source": [
    "#### Before setting up plots etc., we examine some basic statistics of the two data sets:"
   ]
  },
  {
   "cell_type": "code",
   "execution_count": null,
   "metadata": {},
   "outputs": [],
   "source": [
    "# Data set 1\n",
    "yearly_pricedata.describe()"
   ]
  },
  {
   "cell_type": "code",
   "execution_count": null,
   "metadata": {},
   "outputs": [],
   "source": [
    "# Data set 2\n",
    "yearly_salesdata.describe()"
   ]
  },
  {
   "cell_type": "code",
   "execution_count": null,
   "metadata": {},
   "outputs": [],
   "source": [
    "focused_pricedata.describe()"
   ]
  },
  {
   "cell_type": "code",
   "execution_count": null,
   "metadata": {},
   "outputs": [],
   "source": [
    "focused_salesdata.describe()"
   ]
  },
  {
   "cell_type": "markdown",
   "metadata": {},
   "source": [
    "## 2.2 <a id='toc2_2_'></a>[Visualization](#toc0_)"
   ]
  },
  {
   "cell_type": "markdown",
   "metadata": {},
   "source": [
    "#### For fun, we visualize the entire data set 1:"
   ]
  },
  {
   "cell_type": "code",
   "execution_count": null,
   "metadata": {},
   "outputs": [],
   "source": [
    "# We set up the figure and axis\n",
    "plt.figure(figsize=(14, 8))\n",
    "\n",
    "# We loop through each unique area in the DataFrame and plot it\n",
    "for area in yearly_pricedata['Area'].unique():\n",
    "    area_data = yearly_pricedata[yearly_pricedata['Area'] == area]\n",
    "    plt.plot(area_data['Year'], area_data['Price'], marker='o', label=area)\n",
    "\n",
    "# We add title and labels\n",
    "plt.title('Annual Condominium Prices Across All Regions')\n",
    "plt.xlabel('Year')\n",
    "plt.ylabel('Average Condominium Price (1000 Krones)')\n",
    "\n",
    "# We add a legend to the plot\n",
    "plt.legend(title='Area', bbox_to_anchor=(1.05, 1), loc='upper left')\n",
    "\n",
    "# We rotate the x-axis labels for better readability\n",
    "plt.xticks(rotation=45)\n",
    "\n",
    "# We add grid lines\n",
    "plt.grid(True)\n",
    "\n",
    "# We adjust layout to make room for the legend\n",
    "plt.tight_layout()\n",
    "\n",
    "# We show the plot\n",
    "plt.show()"
   ]
  },
  {
   "cell_type": "markdown",
   "metadata": {},
   "source": [
    "#### From the graph above we see that the condominium prices have shown a substantial increase across all regions from 1991 to 2023."
   ]
  },
  {
   "cell_type": "markdown",
   "metadata": {},
   "source": [
    "#### We move on to the visualization of the focused areas of the two data sets:"
   ]
  },
  {
   "cell_type": "code",
   "execution_count": null,
   "metadata": {},
   "outputs": [],
   "source": [
    "# We try to visualize the data for data set 1\n",
    "# We'll create a line plot for each area\n",
    "for area in areas_of_interest:\n",
    "    # We filter the data for the current area\n",
    "    area_data = focused_pricedata[focused_pricedata['Area'] == area]\n",
    "    \n",
    "    # We plot the data\n",
    "    plt.figure(figsize=(12, 6))  # Set the figure size\n",
    "    plt.plot(area_data['Year'], area_data['Price'], marker='o', label=area)  # Plot the data\n",
    "    \n",
    "    # We add title and labels\n",
    "    plt.title(f'Annual Condominium Prices in {area}')\n",
    "    plt.xlabel('Year')\n",
    "    plt.ylabel('Average Condominium Price (in 1000 DKK)')\n",
    "    plt.xticks(rotation=45)  # Rotate the x-axis labels for better readability\n",
    "    plt.legend()  # Show the legend\n",
    "    plt.grid(True)  # Show grid lines for better readability\n",
    "    plt.tight_layout()  # Adjust the layout\n",
    "\n",
    "    # We show the plot\n",
    "    plt.show()"
   ]
  },
  {
   "cell_type": "markdown",
   "metadata": {},
   "source": [
    "#### In both Region Hovedstaden and Region Nordjylland, condominium prices have trended upwards from 1992 to 2023, with significant growth particularly from the early 2000s onwards. Region Hovedstaden shows a more volatile price trajectory with a peak around 2006 followed by a dip, and a notable rise post-2012, suggesting a more dynamic market. In contrast, Region Nordjylland's prices follow a steadier upward trajectory with less volatility, which could imply a more stable market."
   ]
  },
  {
   "cell_type": "code",
   "execution_count": null,
   "metadata": {},
   "outputs": [],
   "source": [
    "# We do the same for data set 2\n",
    "# We'll create a line plot for each area\n",
    "for area in areas_of_interest:\n",
    "    # We filter the data for the current area\n",
    "    area_data = focused_salesdata[focused_salesdata['Area'] == area]\n",
    "    \n",
    "    # We plot the data\n",
    "    plt.figure(figsize=(12, 6))  # Set the figure size\n",
    "    plt.plot(area_data['Year'], area_data['Sales'], marker='o', label=area)  # Plot the data\n",
    "    \n",
    "    # We add title and labels\n",
    "    plt.title(f'Annual Number of Condominium Sales in {area}')\n",
    "    plt.xlabel('Year')\n",
    "    plt.ylabel('Total Number of Condominium sales')\n",
    "    plt.xticks(rotation=45)  # Rotate the x-axis labels for better readability\n",
    "    plt.legend()  # Show the legend\n",
    "    plt.grid(True)  # Show grid lines for better readability\n",
    "    plt.tight_layout()  # Adjust the layout\n",
    "\n",
    "    # We show the plot\n",
    "    plt.show()"
   ]
  },
  {
   "cell_type": "markdown",
   "metadata": {},
   "source": [
    "#### The number of condominium sales in both Region Hovedstaden and Region Nordjylland displays significant fluctuations over the years. Region Hovedstaden shows more pronounced volatility whereas sales numbers also vary but with a less extreme range in Region Nordjylland."
   ]
  },
  {
   "cell_type": "markdown",
   "metadata": {},
   "source": [
    "#### It is difficult to compare the two regions due to the axes. Therefore, we combine the two plots for each data set:"
   ]
  },
  {
   "cell_type": "code",
   "execution_count": null,
   "metadata": {},
   "outputs": [],
   "source": [
    "# We combine the plots for both areas in one figure for comparison (data set 1)\n",
    "fig = px.line(focused_pricedata, x='Year', y='Price', color='Area',\n",
    "              title='Annual Condominium Prices',\n",
    "              labels={'Price': 'Average Condominium Price (1000 Krones)'})\n",
    "fig.update_xaxes(tickangle=45)\n",
    "fig.show()"
   ]
  },
  {
   "cell_type": "markdown",
   "metadata": {},
   "source": [
    "#### Condominium prices in Region Hovedstaden have grown substantially and remain higher than in Region Nordjylland, which shows a more steady increase."
   ]
  },
  {
   "cell_type": "code",
   "execution_count": null,
   "metadata": {},
   "outputs": [],
   "source": [
    "# We combine the plots for both areas in one figure for comparison (data set 2)\n",
    "fig = px.line(focused_salesdata, x='Year', y='Sales', color='Area',\n",
    "              title='Annual Condominium Sales',\n",
    "              labels={'Sales': 'Total Condominium Sales'})\n",
    "fig.update_xaxes(tickangle=45)\n",
    "fig.show()"
   ]
  },
  {
   "cell_type": "markdown",
   "metadata": {},
   "source": [
    "#### Condominium sales in Region Hovedstaden have been considerably higher and more volatile compared to the consistently lower and steadier sales in Region Nordjylland over the years."
   ]
  },
  {
   "cell_type": "markdown",
   "metadata": {},
   "source": [
    "## 2.3 <a id='toc2_3_'></a>[Merging the data sets](#toc0_)"
   ]
  },
  {
   "cell_type": "markdown",
   "metadata": {},
   "source": [
    "#### We want to merge the two data sets:"
   ]
  },
  {
   "cell_type": "code",
   "execution_count": null,
   "metadata": {},
   "outputs": [],
   "source": [
    "# Merge the two datasets on 'Area' and 'Year' columns\n",
    "merged_data = pd.merge(focused_pricedata, focused_salesdata, on=['Area', 'Year'], how='inner')\n",
    "\n",
    "# We plot our merged data\n",
    "for area in areas_of_interest:\n",
    "    # We filter the data for the current area\n",
    "    area_data = merged_data[merged_data['Area'] == area]\n",
    "    \n",
    "    # We create a new figure and a twin Y-axis for the second variable\n",
    "    fig, ax1 = plt.subplots(figsize=(12, 6))\n",
    "\n",
    "    # We plot the 'Price' on the primary y-axis\n",
    "    ax1.set_xlabel('Year')\n",
    "    ax1.set_ylabel('Average Condominium Price (1000 Krones)', color='tab:blue')\n",
    "    ax1.plot(area_data['Year'], area_data['Price'], color='tab:blue', marker='o', label='Price')\n",
    "    ax1.tick_params(axis='y', labelcolor='tab:blue')\n",
    "\n",
    "    # We create a second y-axis for the 'Sales' data\n",
    "    ax2 = ax1.twinx()\n",
    "    ax2.set_ylabel('Number of Sales', color='tab:red')\n",
    "    ax2.plot(area_data['Year'], area_data['Sales'], color='tab:red', marker='o', label='Sales')\n",
    "    ax2.tick_params(axis='y', labelcolor='tab:red')\n",
    "\n",
    "    # Wotate the x-axis labels for better readability\n",
    "    ax1.set_xticklabels(area_data['Year'], rotation=45)\n",
    "\n",
    "    # We add a title and a grid\n",
    "    plt.title(f'Annual Condominium Prices and Number of Sales in {area}')\n",
    "    ax1.grid(True)\n",
    "\n",
    "    # We show the plot with a tight layout\n",
    "    fig.tight_layout()\n",
    "    plt.show()"
   ]
  },
  {
   "cell_type": "markdown",
   "metadata": {},
   "source": [
    "#### The visualization of the merged data is not optimal. However, it shows that the data sets can be merged."
   ]
  },
  {
   "cell_type": "markdown",
   "metadata": {},
   "source": [
    "#### We want to check the correlation between the condominium prices and number of sales:"
   ]
  },
  {
   "cell_type": "code",
   "execution_count": null,
   "metadata": {},
   "outputs": [],
   "source": [
    "# We calculate the correlation matrix for the merged data\n",
    "correlation_matrix = merged_data[['Price', 'Sales']].corr()\n",
    "\n",
    "# We display the correlation matrix\n",
    "print(correlation_matrix)"
   ]
  },
  {
   "cell_type": "markdown",
   "metadata": {},
   "source": [
    "#### We want to visualize the correlation in a heatmap:"
   ]
  },
  {
   "cell_type": "code",
   "execution_count": null,
   "metadata": {},
   "outputs": [],
   "source": [
    "# We set up the matplotlib figure\n",
    "plt.figure(figsize=(8, 6))\n",
    "\n",
    "# We draw the heatmap\n",
    "sns.heatmap(correlation_matrix, annot=True, fmt=\".2f\", cmap='coolwarm', cbar_kws={'label': 'Correlation Coefficient'})\n",
    "\n",
    "# We add a title\n",
    "plt.title('Correlation between Condominium Prices and Number of Sales')\n",
    "\n",
    "# We show the plot\n",
    "plt.show()"
   ]
  },
  {
   "cell_type": "markdown",
   "metadata": {},
   "source": [
    "#### The correlation coefficient of approx. 0.46 between condominium prices and sales numbers suggests a moderate positive relationship; as prices increase, sales numbers tend to increase as well, but the connection is not very strong."
   ]
  },
  {
   "cell_type": "markdown",
   "metadata": {},
   "source": [
    "## 3 <a id='toc3_'></a>[Conclusion](#toc0_)"
   ]
  },
  {
   "cell_type": "markdown",
   "metadata": {},
   "source": [
    "#### The project successfully demonstrates data cleaning and structuring techniques, data analysis methods, and data visualization to gain insights into the Danish condominium market from 1992 to 2023. \n",
    "\n",
    "#### Utilizing data from statistikbanken.dk, it analyzes trends in average condominium prices and sales volumes. The moderate positive correlation of 0.46 indicates that while higher prices are somewhat associated with increased sales, the relationship is not very strong, suggesting other factors also play significant roles in sales volume. The visualizations and analyses provide an overview of the market dynamics over the specified period. "
   ]
  }
 ],
 "metadata": {
  "kernelspec": {
   "display_name": "base",
   "language": "python",
   "name": "python3"
  },
  "language_info": {
   "codemirror_mode": {
    "name": "ipython",
    "version": 3
   },
   "file_extension": ".py",
   "mimetype": "text/x-python",
   "name": "python",
   "nbconvert_exporter": "python",
   "pygments_lexer": "ipython3",
   "version": "3.9.10"
  },
  "toc-autonumbering": true,
  "vscode": {
   "interpreter": {
    "hash": "47ef90cdf3004d3f859f1fb202523c65c07ba7c22eefd261b181f4744e2d0403"
   }
  }
 },
 "nbformat": 4,
 "nbformat_minor": 4
}
